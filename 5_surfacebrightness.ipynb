{
 "cells": [
  {
   "cell_type": "markdown",
   "metadata": {},
   "source": [
    "# This section uses Magpie to calculate surface brightness profile\n",
    "\n",
    "This is equivalently what the previous section does, but magpie is used to calculate surface brightness profile for each Ha Hb line maps and weights, averaged out over the polar angle phi, for each given pixel distance."
   ]
  },
  {
   "cell_type": "markdown",
   "metadata": {},
   "source": []
  },
  {
   "cell_type": "code",
   "execution_count": 2,
   "metadata": {},
   "outputs": [],
   "source": [
    "import  magpie              as     magpie\n",
    "import  numpy               as     np\n",
    "from    astropy.table       import Table\n",
    "from    astropy.io          import fits\n",
    "from    astropy.cosmology   import Planck18\n",
    "import  astropy.units       as     u\n",
    "import  matplotlib.pyplot   as     plt\n",
    "import  matplotlib.colors   as     colors  \n",
    "from    tqdm                import tqdm\n",
    "\n",
    "\n",
    "\n",
    "#this is just a handy little function to return the desired file path\n",
    "#give one entry in the object list, return the desired file path\n",
    "def file_path(obj,prefix,filetype='fits'):\n",
    "    if   filetype == 'fits':\n",
    "        return f\"data/{obj['field']}/{obj['field']}_{str(obj['id']).zfill(5)}.{prefix}.{filetype}\"\n",
    "    elif filetype == 'png':\n",
    "        return f\"png/{obj['field']}/{obj['field']}_{str(obj['id']).zfill(5)}.{prefix}.{filetype}\""
   ]
  },
  {
   "cell_type": "code",
   "execution_count": 57,
   "metadata": {},
   "outputs": [],
   "source": [
    "\n",
    "import magpie.montecarlo\n",
    "\n",
    "\n",
    "def spatial_remap(obj,map,weight_map=False):\n",
    "    pixel_length = (np.deg2rad(0.04/3600) * Planck18.angular_diameter_distance(obj['redshift']).to(u.kpc)).value\n",
    "\n",
    "    b2r = magpie.montecarlo.Box2Ring()\n",
    "    b2r.setup_box(-25*pixel_length,25*pixel_length,50,\n",
    "                -25*pixel_length,25*pixel_length,50)\n",
    "    b2r.setup_polar_lin(0., 25*pixel_length, 12, 10, center=[0., 0.])\n",
    "    b2r.get_weights() \n",
    "    remap = b2r.remap(map)\n",
    "\n",
    "    if weight_map == True:\n",
    "        err = 1/np.sum(remap,axis=0)**0.5\n",
    "        return err\n",
    "    else:\n",
    "        r     = np.linspace(b2r.redges[0], b2r.redges[-1],12)\n",
    "        map_r = np.average(remap,axis=0)\n",
    "        map_r_std = np.std(remap,axis=0)\n",
    "        return r,map_r,map_r_std\n",
    "    \n",
    "\n",
    "def radial_profile(obj,linemap,weight):\n",
    "        linemap = linemap.data; weight = weight.data\n",
    "        r, linemap_r, linemap_r_std = spatial_remap(obj,np.where(linemap>0,linemap,0))\n",
    "        linemap_r_err = spatial_remap(obj,np.where(linemap>0,weight,0),weight_map=True)\n",
    "        linemap_r_err = (linemap_r_err**2 + linemap_r_std**2)**0.5\n",
    "        return r, linemap_r, linemap_r_err \n"
   ]
  },
  {
   "cell_type": "code",
   "execution_count": null,
   "metadata": {},
   "outputs": [],
   "source": [
    "obj_lis = Table.read('spectra-fitting_selected_psfmatched.fits')\n",
    "\n",
    "def gen_table(hdu,obj):\n",
    "    path = file_path(obj=obj,prefix='extracted')\n",
    "    with fits.open(path,mode='update') as hdu:\n",
    "        \n",
    "        r, ha_r, ha_r_err = radial_profile(obj,hdu[4],hdu[5])\n",
    "        r, hb_r, hb_r_err = radial_profile(obj,hdu[11],hdu[7])\n",
    "        r, hb_r, hb_r_err = radial_profile(obj,hdu[6],hdu[7])\n",
    "        balmer_r     = ha_r/hb_r\n",
    "        balmer_r_err = ((ha_r_err/hb_r)**2 + (hb_r_err**2 * (ha_r/hb_r**2)**2))**0.5\n",
    "\n",
    "        tab = np.array(list(zip(r,ha_r,ha_r_err,hb_r,hb_r_err, balmer_r, balmer_r_err)))\n",
    "\n",
    "        cols = [\n",
    "            fits.Column(name='DISTANCE [kpc]', format='E', array=r),\n",
    "            fits.Column(name='Ha_SURF_BRIGHT [1e-17 erg/s/cm2]', format='E', array=ha_r),\n",
    "            fits.Column(name='Ha_SURF_BRIGHT_err [1e-17 erg/s/cm2]', format='E', array=ha_r_err),\n",
    "            fits.Column(name='Hb_SURF_BRIGHT [1e-17 erg/s/cm2]', format='E', array=hb_r),\n",
    "            fits.Column(name='Hb_SURF_BRIGHT_err [1e-17 erg/s/cm2]', format='E', array=hb_r_err),\n",
    "            fits.Column(name='BALMER_DECREM', format='E', array=balmer_r),\n",
    "            fits.Column(name='BALMER_DECREM_ERR', format='E', array=balmer_r_err),\n",
    "        ]\n",
    "        return fits.BinTableHDU.from_columns(cols, name='PIX_RAD_PROFILE')\n",
    "\n",
    "\n",
    "\n",
    "\n",
    "for obj in tqdm(obj_lis):\n",
    "    path = file_path(obj=obj,prefix='extracted')\n",
    "    with fits.open(path,mode='update') as hdu:\n",
    "        new_table = gen_table(hdu,obj)\n",
    "        if len(hdu)>13:\n",
    "            hdu[14] = new_table\n",
    "            hdu.flush()\n",
    "        else:\n",
    "            hdu.append(new_table)\n",
    "            hdu.flush\n"
   ]
  },
  {
   "cell_type": "code",
   "execution_count": null,
   "metadata": {},
   "outputs": [],
   "source": [
    "obj_lis = Table.read('spectra-fitting_selected_psfmatched.fits')\n",
    "i= 25\n",
    "for obj in tqdm(obj_lis[i:i+1]):\n",
    "    path = file_path(obj=obj,prefix='extracted')\n",
    "    with fits.open(path) as hdu:\n",
    "        r,ha_r,ha_r_err = radial_profile(obj,hdu[4],hdu[5])\n",
    "        plt.errorbar(r,ha_r,yerr = ha_r_err,fmt='bo:')\n",
    "        \n",
    "        r, hb_r, hb_r_err = radial_profile(obj,hdu[11],hdu[7])\n",
    "        plt.errorbar(r,hb_r,yerr = hb_r_err/1000,fmt='ro:')\n",
    "\n",
    "        r, hb_r, hb_r_err = radial_profile(obj,hdu[6],hdu[7])\n",
    "        plt.errorbar(r,hb_r,yerr = hb_r_err,fmt='go:')\n",
    "        plt.yscale('log')\n",
    "        plt.show()\n",
    "\n",
    "        balmer_r     = ha_r/hb_r\n",
    "        balmer_r_err = ((ha_r_err/hb_r)**2 + (hb_r_err**2 * (ha_r/hb_r**2)**2))**0.5\n",
    "        plt.errorbar(r,balmer_r,yerr = balmer_r_err,fmt='ro:')\n",
    "        \n",
    "\n"
   ]
  },
  {
   "cell_type": "code",
   "execution_count": null,
   "metadata": {},
   "outputs": [],
   "source": []
  }
 ],
 "metadata": {
  "kernelspec": {
   "display_name": "magpie",
   "language": "python",
   "name": "python3"
  },
  "language_info": {
   "codemirror_mode": {
    "name": "ipython",
    "version": 3
   },
   "file_extension": ".py",
   "mimetype": "text/x-python",
   "name": "python",
   "nbconvert_exporter": "python",
   "pygments_lexer": "ipython3",
   "version": "3.9.20"
  }
 },
 "nbformat": 4,
 "nbformat_minor": 2
}
