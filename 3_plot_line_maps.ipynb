{
 "cells": [
  {
   "cell_type": "code",
   "execution_count": 1,
   "metadata": {},
   "outputs": [],
   "source": [
    "from    astropy.table       import Table\n",
    "import  numpy               as     np\n",
    "from    astropy.io          import fits\n",
    "import  matplotlib.pyplot   as     plt\n",
    "from    astropy.coordinates import Angle        \n",
    "from    astropy             import units as u             \n",
    "import  matplotlib.colors   as     colors               \n",
    "\n",
    "from    tqdm                import tqdm\n",
    "import  os\n",
    "import  gc                                         \n",
    "\n",
    "\n",
    "#this deals with warnings\n",
    "import warnings                                   \n",
    "from astropy.io.fits.verify import VerifyWarning                          \n",
    "warnings.simplefilter('ignore', VerifyWarning)\n",
    "warnings.simplefilter('ignore', UserWarning) \n",
    "\n",
    "#this is just a handy little function to return the desired file path\n",
    "#give one entry in the objectlist, return the desired file path\n",
    "def file_path(obj,prefix,filetype='fits'):\n",
    "    if   filetype == 'fits':\n",
    "        return f\"data\\\\{obj['field']}\\\\{obj['field']}_{str(obj['id']).zfill(5)}.{prefix}.{filetype}\"\n",
    "    elif filetype == 'png':\n",
    "        return f\"png\\\\{obj['field']}\\\\{obj['field']}_{str(obj['id']).zfill(5)}.{prefix}.{filetype}\""
   ]
  },
  {
   "cell_type": "markdown",
   "metadata": {},
   "source": [
    "### define single plot function"
   ]
  },
  {
   "cell_type": "code",
   "execution_count": null,
   "metadata": {},
   "outputs": [],
   "source": [
    "def single_plot(disp,ra,dec,pix,title,ax,style='gray'):\n",
    "\n",
    "    norm = colors.Normalize(vmin=0)\n",
    "    im    =  ax.imshow(disp\n",
    "                    ,norm = norm\n",
    "                    ,origin='lower', cmap = style)\n",
    "    fig.colorbar(im,ax=ax)\n",
    "    \n",
    "    \n",
    "    plt.title(f'{title}, pixel scale: {pix}\\'')\n",
    "    # Set axis labels\n",
    "    ax.set_xlabel(f\"Ra  +  {Angle(round(ra,4),unit='deg').to_string(unit=u.degree, sep=('h', 'm', 's'))}\")\n",
    "    ax.set_ylabel(f\"Dec + {Angle(round(dec,4),unit='deg').to_string(unit=u.degree, sep=('deg', 'm', 's'))}\")\n",
    "    \n",
    "    # Add N and E directions with arrows\n",
    "    ax.text(0.9, 0.9, 'N', transform=ax.transAxes, ha='center', va='center', color='white', fontsize=14)\n",
    "    ax.text(0.1, 0.1, 'E', transform=ax.transAxes, ha='center', va='center', color='white', fontsize=14)"
   ]
  },
  {
   "cell_type": "code",
   "execution_count": 1,
   "metadata": {},
   "outputs": [
    {
     "ename": "NameError",
     "evalue": "name 'Table' is not defined",
     "output_type": "error",
     "traceback": [
      "\u001b[0;31m---------------------------------------------------------------------------\u001b[0m",
      "\u001b[0;31mNameError\u001b[0m                                 Traceback (most recent call last)",
      "Cell \u001b[0;32mIn[1], line 1\u001b[0m\n\u001b[0;32m----> 1\u001b[0m obj_lis \u001b[38;5;241m=\u001b[39m \u001b[43mTable\u001b[49m\u001b[38;5;241m.\u001b[39mread(\u001b[38;5;124m'\u001b[39m\u001b[38;5;124mspectra-fitting_selected_psfmatched.fits\u001b[39m\u001b[38;5;124m'\u001b[39m)\n\u001b[1;32m      2\u001b[0m step \u001b[38;5;241m=\u001b[39m \u001b[38;5;241m0\u001b[39m\n\u001b[1;32m      4\u001b[0m \u001b[38;5;28;01mfor\u001b[39;00m index \u001b[38;5;129;01min\u001b[39;00m tqdm(\u001b[38;5;28mrange\u001b[39m(\u001b[38;5;28mlen\u001b[39m(obj_lis[:\u001b[38;5;241m10\u001b[39m])),\n\u001b[1;32m      5\u001b[0m                     desc\u001b[38;5;241m=\u001b[39m\u001b[38;5;124m\"\u001b[39m\u001b[38;5;124mProcessing Table\u001b[39m\u001b[38;5;124m\"\u001b[39m,\n\u001b[1;32m      6\u001b[0m                     ncols\u001b[38;5;241m=\u001b[39m\u001b[38;5;241m100\u001b[39m):\n",
      "\u001b[0;31mNameError\u001b[0m: name 'Table' is not defined"
     ]
    }
   ],
   "source": [
    "obj_lis = Table.read('spectra-fitting_selected_psfmatched.fits')\n",
    "step = 0\n",
    "\n",
    "for index in tqdm(range(len(obj_lis[:10])),\n",
    "                    desc=\"Processing Table\",\n",
    "                    ncols=100):\n",
    "    obj=obj_lis[index]\n",
    "\n",
    "\n",
    "    if os.path.exists(file_path(obj=obj,prefix='fullplot',filetype='png')):\n",
    "        continue\n",
    "    \n",
    "    path = file_path(obj=obj,prefix='extracted')\n",
    "    with fits.open(path) as extracted:\n",
    "        #mask = extracted[2].data \n",
    "        #mask[mask==extracted[0].header['id']] = 1\n",
    "        #mask[mask!=1] = 0\n",
    "\n",
    "# this the part for plot the calculated result\n",
    "        ra    =  obj['ra']\n",
    "        dec   =  obj['dec']\n",
    "        pix   =  extracted[3].header['PIXASEC'] #arcsec\n",
    "\n",
    "        fig = plt.figure(figsize=(15,15))   \n",
    "        stuff_to_plot = [3,10,4,6,11,12]\n",
    "        for index in range(len(stuff_to_plot)):\n",
    "            #parameter control\n",
    "            i = stuff_to_plot[index]    \n",
    "            disp  =  extracted[i].data\n",
    "            title =  obj['field'],obj['id'],extracted[i].name\n",
    "            ax    =  fig.add_subplot(int(f'32{index+1}')) \n",
    "            single_plot(disp,ra,dec,pix,title,ax,style='binary_r')\n",
    "        plt.savefig(file_path(obj=obj,prefix='fullplot',filetype='png'))\n",
    "        plt.close('all')\n",
    "        step += 1\n",
    "        if step >= 10:\n",
    "            gc.collect()   \n",
    "            step=0  \n"
   ]
  }
 ],
 "metadata": {
  "kernelspec": {
   "display_name": "baproj",
   "language": "python",
   "name": "python3"
  },
  "language_info": {
   "codemirror_mode": {
    "name": "ipython",
    "version": 3
   },
   "file_extension": ".py",
   "mimetype": "text/x-python",
   "name": "python",
   "nbconvert_exporter": "python",
   "pygments_lexer": "ipython3",
   "version": "3.10.15"
  }
 },
 "nbformat": 4,
 "nbformat_minor": 2
}
