{
 "cells": [
  {
   "cell_type": "markdown",
   "metadata": {},
   "source": [
    "# object selection form catalog\n",
    "\n",
    "currently it's just a simple selection S/N of Ha Hb fluxes > 5"
   ]
  },
  {
   "cell_type": "code",
   "execution_count": 1,
   "metadata": {},
   "outputs": [],
   "source": [
    "from astropy.table import Table\n",
    "import numpy as np\n",
    "\n",
    "\n",
    "#this is just a handy little function to return the desired file path\n",
    "#give one entry in the objectlist, return the desired file path\n",
    "def file_path(obj,prefix,filetype='fits'):\n",
    "    if   filetype == 'fits':\n",
    "        return f\"data\\\\{obj['field']}\\\\{obj['field']}_{str(obj['id']).zfill(5)}.{prefix}.{filetype}\"\n",
    "    elif filetype == 'png':\n",
    "        return f\"png\\\\{obj['field']}\\\\{obj['field']}_{str(obj['id']).zfill(5)}.{prefix}.{filetype}\""
   ]
  },
  {
   "cell_type": "code",
   "execution_count": 2,
   "metadata": {},
   "outputs": [
    {
     "name": "stdout",
     "output_type": "stream",
     "text": [
      "num objs before selection 131305\n",
      "num objs after selection 2044\n"
     ]
    }
   ],
   "source": [
    "\n",
    "def cat_select():\n",
    "    #load catalog\n",
    "    data = Table.read('spectra-fitting.fits')\n",
    "\n",
    "    print('num objs before selection',len(data))\n",
    "    data =  data[\n",
    "        np.logical_and(data['sn_Ha'] >= 5, data['sn_Hb'] >= 5) #select sn>=5\n",
    "                ]\n",
    "    print('num objs after selection',len(data))\n",
    "\n",
    "    #save catalog after selection\n",
    "    data[\n",
    "        'field','id','redshift','ra','dec','flux_Ha','err_Ha','sn_Ha','flux_Hb','err_Hb','sn_Hb'\n",
    "        ].write('spectra-fitting_selected.fits',overwrite=True)\n",
    "\n",
    "    return Table.read('spectra-fitting_selected.fits')\n",
    "obj_lis = cat_select()"
   ]
  },
  {
   "cell_type": "markdown",
   "metadata": {},
   "source": [
    "# download spectrum from server.\n",
    "\n",
    "It is recommended that to run the script downloadSpectra in prompt because of potential stability issue"
   ]
  },
  {
   "cell_type": "code",
   "execution_count": 3,
   "metadata": {},
   "outputs": [
    {
     "data": {
      "text/plain": [
       "\"\\ntry:\\n    # Run the command\\n    #subprocess.run(command, check=True)\\nexcept subprocess.CalledProcessError as e:\\n    print(f'An error occurred: {e}')\\n\""
      ]
     },
     "execution_count": 3,
     "metadata": {},
     "output_type": "execute_result"
    }
   ],
   "source": [
    "#import subprocess\n",
    "\n",
    "# Define the command to run\n",
    "command = [\n",
    "    'C:/ba project/.conda/python.exe', \n",
    "    'downloadSpectra.py', \n",
    "    'spectra-fitting_selected.fits', \n",
    "    '--ncpu', '15'  \n",
    "]\n",
    "\n",
    "\"\"\"\n",
    "try:\n",
    "    # Run the command\n",
    "    #subprocess.run(command, check=True)\n",
    "except subprocess.CalledProcessError as e:\n",
    "    print(f'An error occurred: {e}')\n",
    "\"\"\""
   ]
  }
 ],
 "metadata": {
  "kernelspec": {
   "display_name": "Python 3",
   "language": "python",
   "name": "python3"
  },
  "language_info": {
   "codemirror_mode": {
    "name": "ipython",
    "version": 3
   },
   "file_extension": ".py",
   "mimetype": "text/x-python",
   "name": "python",
   "nbconvert_exporter": "python",
   "pygments_lexer": "ipython3",
   "version": "3.8.20"
  }
 },
 "nbformat": 4,
 "nbformat_minor": 2
}
